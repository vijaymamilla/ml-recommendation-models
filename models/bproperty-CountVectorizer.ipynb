{
 "cells": [
  {
   "cell_type": "code",
   "execution_count": 1,
   "id": "26341b97",
   "metadata": {},
   "outputs": [],
   "source": [
    "import numpy as np\n",
    "import pandas as pd"
   ]
  },
  {
   "cell_type": "code",
   "execution_count": 2,
   "id": "803fed0c",
   "metadata": {},
   "outputs": [],
   "source": [
    "df = pd.read_csv('bproperty.csv')"
   ]
  },
  {
   "cell_type": "code",
   "execution_count": 3,
   "id": "31ccb029",
   "metadata": {},
   "outputs": [
    {
     "data": {
      "text/html": [
       "<div>\n",
       "<style scoped>\n",
       "    .dataframe tbody tr th:only-of-type {\n",
       "        vertical-align: middle;\n",
       "    }\n",
       "\n",
       "    .dataframe tbody tr th {\n",
       "        vertical-align: top;\n",
       "    }\n",
       "\n",
       "    .dataframe thead th {\n",
       "        text-align: right;\n",
       "    }\n",
       "</style>\n",
       "<table border=\"1\" class=\"dataframe\">\n",
       "  <thead>\n",
       "    <tr style=\"text-align: right;\">\n",
       "      <th></th>\n",
       "      <th>area</th>\n",
       "      <th>building_type</th>\n",
       "      <th>building_nature</th>\n",
       "      <th>image_url</th>\n",
       "      <th>num_bath_rooms</th>\n",
       "      <th>num_bed_rooms</th>\n",
       "      <th>price</th>\n",
       "      <th>property_description</th>\n",
       "      <th>property_overview</th>\n",
       "      <th>property_url</th>\n",
       "      <th>purpose</th>\n",
       "      <th>city</th>\n",
       "      <th>locality</th>\n",
       "      <th>address</th>\n",
       "      <th>id</th>\n",
       "    </tr>\n",
       "  </thead>\n",
       "  <tbody>\n",
       "    <tr>\n",
       "      <th>0</th>\n",
       "      <td>1185.0</td>\n",
       "      <td>Apartment</td>\n",
       "      <td>Residential</td>\n",
       "      <td>https://images-cdn.bproperty.com/thumbnails/15...</td>\n",
       "      <td>0.0</td>\n",
       "      <td>3.0</td>\n",
       "      <td>6100000.0</td>\n",
       "      <td>Grab This 1185 Sq Ft Beautiful Flat Is Vacant ...</td>\n",
       "      <td>This flat consists of facilities you can think...</td>\n",
       "      <td>https://www.bproperty.com/en/property/details-...</td>\n",
       "      <td>Sale</td>\n",
       "      <td>Dhaka</td>\n",
       "      <td>Khilgaon</td>\n",
       "      <td>NaN</td>\n",
       "      <td>bproperty-0</td>\n",
       "    </tr>\n",
       "    <tr>\n",
       "      <th>1</th>\n",
       "      <td>2464.0</td>\n",
       "      <td>Apartment</td>\n",
       "      <td>Residential</td>\n",
       "      <td>https://images-cdn.bproperty.com/thumbnails/15...</td>\n",
       "      <td>4.0</td>\n",
       "      <td>3.0</td>\n",
       "      <td>28900000.0</td>\n",
       "      <td>A Vibrant 2464 Sq Ft Residential Flat For Sale...</td>\n",
       "      <td>Ready to move in somewhere with everything nea...</td>\n",
       "      <td>https://www.bproperty.com/en/property/details-...</td>\n",
       "      <td>Sale</td>\n",
       "      <td>Dhaka</td>\n",
       "      <td>Dhanmondi</td>\n",
       "      <td>NaN</td>\n",
       "      <td>bproperty-1</td>\n",
       "    </tr>\n",
       "    <tr>\n",
       "      <th>2</th>\n",
       "      <td>1140.0</td>\n",
       "      <td>Apartment</td>\n",
       "      <td>Residential</td>\n",
       "      <td>https://images-cdn.bproperty.com/thumbnails/15...</td>\n",
       "      <td>0.0</td>\n",
       "      <td>3.0</td>\n",
       "      <td>7500000.0</td>\n",
       "      <td>1140 Sq Ft Nicely Planned Apartment Is Availab...</td>\n",
       "      <td>A spacious 1140  Square Feet apartment in Mirp...</td>\n",
       "      <td>https://www.bproperty.com/en/property/details-...</td>\n",
       "      <td>Sale</td>\n",
       "      <td>Dhaka</td>\n",
       "      <td>Mirpur</td>\n",
       "      <td>Block Ta, Section 6</td>\n",
       "      <td>bproperty-2</td>\n",
       "    </tr>\n",
       "    <tr>\n",
       "      <th>3</th>\n",
       "      <td>1920.0</td>\n",
       "      <td>Apartment</td>\n",
       "      <td>Residential</td>\n",
       "      <td>https://images-cdn.bproperty.com/thumbnails/15...</td>\n",
       "      <td>3.0</td>\n",
       "      <td>3.0</td>\n",
       "      <td>20000000.0</td>\n",
       "      <td>A Modern Well-planned Apartment Of 1920 Sq Ft ...</td>\n",
       "      <td>Looking for the perfect home that offers a lux...</td>\n",
       "      <td>https://www.bproperty.com/en/property/details-...</td>\n",
       "      <td>Sale</td>\n",
       "      <td>Dhaka</td>\n",
       "      <td>Bashundhara R-A</td>\n",
       "      <td>Block J</td>\n",
       "      <td>bproperty-3</td>\n",
       "    </tr>\n",
       "    <tr>\n",
       "      <th>4</th>\n",
       "      <td>1445.0</td>\n",
       "      <td>Apartment</td>\n",
       "      <td>Residential</td>\n",
       "      <td>https://images-cdn.bproperty.com/thumbnails/15...</td>\n",
       "      <td>3.0</td>\n",
       "      <td>3.0</td>\n",
       "      <td>10800000.0</td>\n",
       "      <td>1445 Sq Ft Ready Flat For Sale In Banasree, Wi...</td>\n",
       "      <td>Choosing a new home can be an overwhelming exp...</td>\n",
       "      <td>https://www.bproperty.com/en/property/details-...</td>\n",
       "      <td>Sale</td>\n",
       "      <td>Dhaka</td>\n",
       "      <td>Banasree</td>\n",
       "      <td>Block M, South Banasree Project</td>\n",
       "      <td>bproperty-4</td>\n",
       "    </tr>\n",
       "  </tbody>\n",
       "</table>\n",
       "</div>"
      ],
      "text/plain": [
       "     area building_type building_nature  \\\n",
       "0  1185.0     Apartment     Residential   \n",
       "1  2464.0     Apartment     Residential   \n",
       "2  1140.0     Apartment     Residential   \n",
       "3  1920.0     Apartment     Residential   \n",
       "4  1445.0     Apartment     Residential   \n",
       "\n",
       "                                           image_url  num_bath_rooms  \\\n",
       "0  https://images-cdn.bproperty.com/thumbnails/15...             0.0   \n",
       "1  https://images-cdn.bproperty.com/thumbnails/15...             4.0   \n",
       "2  https://images-cdn.bproperty.com/thumbnails/15...             0.0   \n",
       "3  https://images-cdn.bproperty.com/thumbnails/15...             3.0   \n",
       "4  https://images-cdn.bproperty.com/thumbnails/15...             3.0   \n",
       "\n",
       "   num_bed_rooms       price  \\\n",
       "0            3.0   6100000.0   \n",
       "1            3.0  28900000.0   \n",
       "2            3.0   7500000.0   \n",
       "3            3.0  20000000.0   \n",
       "4            3.0  10800000.0   \n",
       "\n",
       "                                property_description  \\\n",
       "0  Grab This 1185 Sq Ft Beautiful Flat Is Vacant ...   \n",
       "1  A Vibrant 2464 Sq Ft Residential Flat For Sale...   \n",
       "2  1140 Sq Ft Nicely Planned Apartment Is Availab...   \n",
       "3  A Modern Well-planned Apartment Of 1920 Sq Ft ...   \n",
       "4  1445 Sq Ft Ready Flat For Sale In Banasree, Wi...   \n",
       "\n",
       "                                   property_overview  \\\n",
       "0  This flat consists of facilities you can think...   \n",
       "1  Ready to move in somewhere with everything nea...   \n",
       "2  A spacious 1140  Square Feet apartment in Mirp...   \n",
       "3  Looking for the perfect home that offers a lux...   \n",
       "4  Choosing a new home can be an overwhelming exp...   \n",
       "\n",
       "                                        property_url purpose   city  \\\n",
       "0  https://www.bproperty.com/en/property/details-...    Sale  Dhaka   \n",
       "1  https://www.bproperty.com/en/property/details-...    Sale  Dhaka   \n",
       "2  https://www.bproperty.com/en/property/details-...    Sale  Dhaka   \n",
       "3  https://www.bproperty.com/en/property/details-...    Sale  Dhaka   \n",
       "4  https://www.bproperty.com/en/property/details-...    Sale  Dhaka   \n",
       "\n",
       "          locality                          address           id  \n",
       "0         Khilgaon                              NaN  bproperty-0  \n",
       "1        Dhanmondi                              NaN  bproperty-1  \n",
       "2           Mirpur              Block Ta, Section 6  bproperty-2  \n",
       "3  Bashundhara R-A                          Block J  bproperty-3  \n",
       "4         Banasree  Block M, South Banasree Project  bproperty-4  "
      ]
     },
     "execution_count": 3,
     "metadata": {},
     "output_type": "execute_result"
    }
   ],
   "source": [
    "df.head()"
   ]
  },
  {
   "cell_type": "code",
   "execution_count": 4,
   "id": "9518d612",
   "metadata": {},
   "outputs": [
    {
     "data": {
      "text/plain": [
       "area                       0\n",
       "building_type              0\n",
       "building_nature            0\n",
       "image_url                 17\n",
       "num_bath_rooms             0\n",
       "num_bed_rooms              0\n",
       "price                      0\n",
       "property_description       0\n",
       "property_overview          0\n",
       "property_url               0\n",
       "purpose                    0\n",
       "city                       0\n",
       "locality                  47\n",
       "address                 4727\n",
       "id                         0\n",
       "dtype: int64"
      ]
     },
     "execution_count": 4,
     "metadata": {},
     "output_type": "execute_result"
    }
   ],
   "source": [
    "df.isnull().sum()"
   ]
  },
  {
   "cell_type": "code",
   "execution_count": 5,
   "id": "83a3b7f2",
   "metadata": {},
   "outputs": [],
   "source": [
    "df = df.drop(columns=['address'])"
   ]
  },
  {
   "cell_type": "code",
   "execution_count": 6,
   "id": "48e63458",
   "metadata": {},
   "outputs": [
    {
     "data": {
      "text/plain": [
       "(17329, 14)"
      ]
     },
     "execution_count": 6,
     "metadata": {},
     "output_type": "execute_result"
    }
   ],
   "source": [
    "df.shape"
   ]
  },
  {
   "cell_type": "code",
   "execution_count": 7,
   "id": "233ae178",
   "metadata": {},
   "outputs": [
    {
     "data": {
      "text/plain": [
       "area                     0\n",
       "building_type            0\n",
       "building_nature          0\n",
       "image_url               17\n",
       "num_bath_rooms           0\n",
       "num_bed_rooms            0\n",
       "price                    0\n",
       "property_description     0\n",
       "property_overview        0\n",
       "property_url             0\n",
       "purpose                  0\n",
       "city                     0\n",
       "locality                47\n",
       "id                       0\n",
       "dtype: int64"
      ]
     },
     "execution_count": 7,
     "metadata": {},
     "output_type": "execute_result"
    }
   ],
   "source": [
    "df.isnull().sum()\n"
   ]
  },
  {
   "cell_type": "code",
   "execution_count": 8,
   "id": "c1c7ff7f",
   "metadata": {},
   "outputs": [],
   "source": [
    "df = df.dropna()\n"
   ]
  },
  {
   "cell_type": "code",
   "execution_count": 9,
   "id": "e284d516",
   "metadata": {},
   "outputs": [
    {
     "data": {
      "text/plain": [
       "(17265, 14)"
      ]
     },
     "execution_count": 9,
     "metadata": {},
     "output_type": "execute_result"
    }
   ],
   "source": [
    "df.shape\n"
   ]
  },
  {
   "cell_type": "code",
   "execution_count": 10,
   "id": "5020dc6a",
   "metadata": {},
   "outputs": [],
   "source": [
    "df['overview'] = df['property_description']+\" \"+ df['property_overview']"
   ]
  },
  {
   "cell_type": "code",
   "execution_count": 11,
   "id": "618cfb85",
   "metadata": {},
   "outputs": [
    {
     "data": {
      "text/plain": [
       "(17265, 15)"
      ]
     },
     "execution_count": 11,
     "metadata": {},
     "output_type": "execute_result"
    }
   ],
   "source": [
    "df.shape"
   ]
  },
  {
   "cell_type": "code",
   "execution_count": 12,
   "id": "327f28af",
   "metadata": {},
   "outputs": [],
   "source": [
    "df['overview'] = df['overview'].apply(lambda x:x.lower())"
   ]
  },
  {
   "cell_type": "code",
   "execution_count": 13,
   "id": "924b3d29",
   "metadata": {},
   "outputs": [
    {
     "data": {
      "text/html": [
       "<div>\n",
       "<style scoped>\n",
       "    .dataframe tbody tr th:only-of-type {\n",
       "        vertical-align: middle;\n",
       "    }\n",
       "\n",
       "    .dataframe tbody tr th {\n",
       "        vertical-align: top;\n",
       "    }\n",
       "\n",
       "    .dataframe thead th {\n",
       "        text-align: right;\n",
       "    }\n",
       "</style>\n",
       "<table border=\"1\" class=\"dataframe\">\n",
       "  <thead>\n",
       "    <tr style=\"text-align: right;\">\n",
       "      <th></th>\n",
       "      <th>area</th>\n",
       "      <th>building_type</th>\n",
       "      <th>building_nature</th>\n",
       "      <th>image_url</th>\n",
       "      <th>num_bath_rooms</th>\n",
       "      <th>num_bed_rooms</th>\n",
       "      <th>price</th>\n",
       "      <th>property_description</th>\n",
       "      <th>property_overview</th>\n",
       "      <th>property_url</th>\n",
       "      <th>purpose</th>\n",
       "      <th>city</th>\n",
       "      <th>locality</th>\n",
       "      <th>id</th>\n",
       "      <th>overview</th>\n",
       "    </tr>\n",
       "  </thead>\n",
       "  <tbody>\n",
       "    <tr>\n",
       "      <th>0</th>\n",
       "      <td>1185.0</td>\n",
       "      <td>Apartment</td>\n",
       "      <td>Residential</td>\n",
       "      <td>https://images-cdn.bproperty.com/thumbnails/15...</td>\n",
       "      <td>0.0</td>\n",
       "      <td>3.0</td>\n",
       "      <td>6100000.0</td>\n",
       "      <td>Grab This 1185 Sq Ft Beautiful Flat Is Vacant ...</td>\n",
       "      <td>This flat consists of facilities you can think...</td>\n",
       "      <td>https://www.bproperty.com/en/property/details-...</td>\n",
       "      <td>Sale</td>\n",
       "      <td>Dhaka</td>\n",
       "      <td>Khilgaon</td>\n",
       "      <td>bproperty-0</td>\n",
       "      <td>grab this 1185 sq ft beautiful flat is vacant ...</td>\n",
       "    </tr>\n",
       "    <tr>\n",
       "      <th>1</th>\n",
       "      <td>2464.0</td>\n",
       "      <td>Apartment</td>\n",
       "      <td>Residential</td>\n",
       "      <td>https://images-cdn.bproperty.com/thumbnails/15...</td>\n",
       "      <td>4.0</td>\n",
       "      <td>3.0</td>\n",
       "      <td>28900000.0</td>\n",
       "      <td>A Vibrant 2464 Sq Ft Residential Flat For Sale...</td>\n",
       "      <td>Ready to move in somewhere with everything nea...</td>\n",
       "      <td>https://www.bproperty.com/en/property/details-...</td>\n",
       "      <td>Sale</td>\n",
       "      <td>Dhaka</td>\n",
       "      <td>Dhanmondi</td>\n",
       "      <td>bproperty-1</td>\n",
       "      <td>a vibrant 2464 sq ft residential flat for sale...</td>\n",
       "    </tr>\n",
       "    <tr>\n",
       "      <th>2</th>\n",
       "      <td>1140.0</td>\n",
       "      <td>Apartment</td>\n",
       "      <td>Residential</td>\n",
       "      <td>https://images-cdn.bproperty.com/thumbnails/15...</td>\n",
       "      <td>0.0</td>\n",
       "      <td>3.0</td>\n",
       "      <td>7500000.0</td>\n",
       "      <td>1140 Sq Ft Nicely Planned Apartment Is Availab...</td>\n",
       "      <td>A spacious 1140  Square Feet apartment in Mirp...</td>\n",
       "      <td>https://www.bproperty.com/en/property/details-...</td>\n",
       "      <td>Sale</td>\n",
       "      <td>Dhaka</td>\n",
       "      <td>Mirpur</td>\n",
       "      <td>bproperty-2</td>\n",
       "      <td>1140 sq ft nicely planned apartment is availab...</td>\n",
       "    </tr>\n",
       "    <tr>\n",
       "      <th>3</th>\n",
       "      <td>1920.0</td>\n",
       "      <td>Apartment</td>\n",
       "      <td>Residential</td>\n",
       "      <td>https://images-cdn.bproperty.com/thumbnails/15...</td>\n",
       "      <td>3.0</td>\n",
       "      <td>3.0</td>\n",
       "      <td>20000000.0</td>\n",
       "      <td>A Modern Well-planned Apartment Of 1920 Sq Ft ...</td>\n",
       "      <td>Looking for the perfect home that offers a lux...</td>\n",
       "      <td>https://www.bproperty.com/en/property/details-...</td>\n",
       "      <td>Sale</td>\n",
       "      <td>Dhaka</td>\n",
       "      <td>Bashundhara R-A</td>\n",
       "      <td>bproperty-3</td>\n",
       "      <td>a modern well-planned apartment of 1920 sq ft ...</td>\n",
       "    </tr>\n",
       "    <tr>\n",
       "      <th>4</th>\n",
       "      <td>1445.0</td>\n",
       "      <td>Apartment</td>\n",
       "      <td>Residential</td>\n",
       "      <td>https://images-cdn.bproperty.com/thumbnails/15...</td>\n",
       "      <td>3.0</td>\n",
       "      <td>3.0</td>\n",
       "      <td>10800000.0</td>\n",
       "      <td>1445 Sq Ft Ready Flat For Sale In Banasree, Wi...</td>\n",
       "      <td>Choosing a new home can be an overwhelming exp...</td>\n",
       "      <td>https://www.bproperty.com/en/property/details-...</td>\n",
       "      <td>Sale</td>\n",
       "      <td>Dhaka</td>\n",
       "      <td>Banasree</td>\n",
       "      <td>bproperty-4</td>\n",
       "      <td>1445 sq ft ready flat for sale in banasree, wi...</td>\n",
       "    </tr>\n",
       "  </tbody>\n",
       "</table>\n",
       "</div>"
      ],
      "text/plain": [
       "     area building_type building_nature  \\\n",
       "0  1185.0     Apartment     Residential   \n",
       "1  2464.0     Apartment     Residential   \n",
       "2  1140.0     Apartment     Residential   \n",
       "3  1920.0     Apartment     Residential   \n",
       "4  1445.0     Apartment     Residential   \n",
       "\n",
       "                                           image_url  num_bath_rooms  \\\n",
       "0  https://images-cdn.bproperty.com/thumbnails/15...             0.0   \n",
       "1  https://images-cdn.bproperty.com/thumbnails/15...             4.0   \n",
       "2  https://images-cdn.bproperty.com/thumbnails/15...             0.0   \n",
       "3  https://images-cdn.bproperty.com/thumbnails/15...             3.0   \n",
       "4  https://images-cdn.bproperty.com/thumbnails/15...             3.0   \n",
       "\n",
       "   num_bed_rooms       price  \\\n",
       "0            3.0   6100000.0   \n",
       "1            3.0  28900000.0   \n",
       "2            3.0   7500000.0   \n",
       "3            3.0  20000000.0   \n",
       "4            3.0  10800000.0   \n",
       "\n",
       "                                property_description  \\\n",
       "0  Grab This 1185 Sq Ft Beautiful Flat Is Vacant ...   \n",
       "1  A Vibrant 2464 Sq Ft Residential Flat For Sale...   \n",
       "2  1140 Sq Ft Nicely Planned Apartment Is Availab...   \n",
       "3  A Modern Well-planned Apartment Of 1920 Sq Ft ...   \n",
       "4  1445 Sq Ft Ready Flat For Sale In Banasree, Wi...   \n",
       "\n",
       "                                   property_overview  \\\n",
       "0  This flat consists of facilities you can think...   \n",
       "1  Ready to move in somewhere with everything nea...   \n",
       "2  A spacious 1140  Square Feet apartment in Mirp...   \n",
       "3  Looking for the perfect home that offers a lux...   \n",
       "4  Choosing a new home can be an overwhelming exp...   \n",
       "\n",
       "                                        property_url purpose   city  \\\n",
       "0  https://www.bproperty.com/en/property/details-...    Sale  Dhaka   \n",
       "1  https://www.bproperty.com/en/property/details-...    Sale  Dhaka   \n",
       "2  https://www.bproperty.com/en/property/details-...    Sale  Dhaka   \n",
       "3  https://www.bproperty.com/en/property/details-...    Sale  Dhaka   \n",
       "4  https://www.bproperty.com/en/property/details-...    Sale  Dhaka   \n",
       "\n",
       "          locality           id  \\\n",
       "0         Khilgaon  bproperty-0   \n",
       "1        Dhanmondi  bproperty-1   \n",
       "2           Mirpur  bproperty-2   \n",
       "3  Bashundhara R-A  bproperty-3   \n",
       "4         Banasree  bproperty-4   \n",
       "\n",
       "                                            overview  \n",
       "0  grab this 1185 sq ft beautiful flat is vacant ...  \n",
       "1  a vibrant 2464 sq ft residential flat for sale...  \n",
       "2  1140 sq ft nicely planned apartment is availab...  \n",
       "3  a modern well-planned apartment of 1920 sq ft ...  \n",
       "4  1445 sq ft ready flat for sale in banasree, wi...  "
      ]
     },
     "execution_count": 13,
     "metadata": {},
     "output_type": "execute_result"
    }
   ],
   "source": [
    "df.head()"
   ]
  },
  {
   "cell_type": "code",
   "execution_count": 14,
   "id": "4c07f7b3",
   "metadata": {},
   "outputs": [],
   "source": [
    "from sklearn.feature_extraction.text import CountVectorizer\n",
    "cv = CountVectorizer(max_features=5000,stop_words='english')"
   ]
  },
  {
   "cell_type": "code",
   "execution_count": 15,
   "id": "133decb3",
   "metadata": {},
   "outputs": [],
   "source": [
    "import nltk\n",
    "from nltk.stem.porter import PorterStemmer\n",
    "ps = PorterStemmer()"
   ]
  },
  {
   "cell_type": "code",
   "execution_count": 16,
   "id": "353d6a0d",
   "metadata": {},
   "outputs": [],
   "source": [
    "def stem(text):\n",
    "    y = []\n",
    "    for x in text.split():\n",
    "        y.append(ps.stem(x))\n",
    "    \n",
    "    return \" \".join(y)"
   ]
  },
  {
   "cell_type": "code",
   "execution_count": 17,
   "id": "d5bd8954",
   "metadata": {},
   "outputs": [],
   "source": [
    "df['overview'] =df['overview'].apply(stem)"
   ]
  },
  {
   "cell_type": "code",
   "execution_count": 18,
   "id": "5adc5339",
   "metadata": {},
   "outputs": [],
   "source": [
    "vectors =cv.fit_transform(df['overview']).toarray()"
   ]
  },
  {
   "cell_type": "code",
   "execution_count": 19,
   "id": "39f6d76e",
   "metadata": {},
   "outputs": [
    {
     "data": {
      "text/plain": [
       "array([0, 0, 0, ..., 0, 0, 0])"
      ]
     },
     "execution_count": 19,
     "metadata": {},
     "output_type": "execute_result"
    }
   ],
   "source": [
    "vectors[0]"
   ]
  },
  {
   "cell_type": "code",
   "execution_count": 20,
   "id": "c274ce61",
   "metadata": {},
   "outputs": [],
   "source": [
    "from sklearn.metrics.pairwise import cosine_similarity"
   ]
  },
  {
   "cell_type": "code",
   "execution_count": 21,
   "id": "7baeae81",
   "metadata": {},
   "outputs": [],
   "source": [
    "similarity = cosine_similarity(vectors)"
   ]
  },
  {
   "cell_type": "code",
   "execution_count": 22,
   "id": "0e765579",
   "metadata": {},
   "outputs": [
    {
     "data": {
      "text/plain": [
       "(17265, 17265)"
      ]
     },
     "execution_count": 22,
     "metadata": {},
     "output_type": "execute_result"
    }
   ],
   "source": [
    "similarity.shape"
   ]
  },
  {
   "cell_type": "code",
   "execution_count": 23,
   "id": "f511bca2",
   "metadata": {},
   "outputs": [],
   "source": [
    "def recommend(id):\n",
    "    df_index = df[df['id'] == id].index[0]\n",
    "    distances = similarity[df_index]\n",
    "    property_list =sorted(list(enumerate(distances)),reverse=True,key=lambda x:x[1])[1:6]\n",
    "    \n",
    "    for x in property_list:\n",
    "        print(df.iloc[x[0]])"
   ]
  },
  {
   "cell_type": "code",
   "execution_count": 24,
   "id": "6ea81223",
   "metadata": {},
   "outputs": [
    {
     "name": "stdout",
     "output_type": "stream",
     "text": [
      "area                                                               2600.0\n",
      "building_type                                                       Floor\n",
      "building_nature                                                Commercial\n",
      "image_url               https://images-cdn.bproperty.com/thumbnails/14...\n",
      "num_bath_rooms                                                        0.0\n",
      "num_bed_rooms                                                         0.0\n",
      "price                                                            300000.0\n",
      "property_description    Luxury All Around In This 2600 Square Feet Com...\n",
      "property_overview       This vacant property is an excellent opportuni...\n",
      "property_url            https://www.bproperty.com/en/property/details-...\n",
      "purpose                                                              Rent\n",
      "city                                                                Dhaka\n",
      "locality                                                          Gulshan\n",
      "id                                                        bproperty-13791\n",
      "overview                luxuri all around in thi 2600 squar feet comme...\n",
      "Name: 13791, dtype: object\n",
      "area                                                                987.0\n",
      "building_type                                                      Office\n",
      "building_nature                                                Commercial\n",
      "image_url               https://images-cdn.bproperty.com/thumbnails/14...\n",
      "num_bath_rooms                                                        0.0\n",
      "num_bed_rooms                                                         0.0\n",
      "price                                                            100000.0\n",
      "property_description    987 Square Feet Commercial Office Space Is Rea...\n",
      "property_overview       This vacant property is an excellent opportuni...\n",
      "property_url            https://www.bproperty.com/en/property/details-...\n",
      "purpose                                                              Rent\n",
      "city                                                                Dhaka\n",
      "locality                                                          Gulshan\n",
      "id                                                        bproperty-12951\n",
      "overview                987 squar feet commerci offic space is readi a...\n",
      "Name: 12951, dtype: object\n",
      "area                                                              10000.0\n",
      "building_type                                                       Floor\n",
      "building_nature                                                Commercial\n",
      "image_url               https://images-cdn.bproperty.com/thumbnails/15...\n",
      "num_bath_rooms                                                        0.0\n",
      "num_bed_rooms                                                         0.0\n",
      "price                                                            650000.0\n",
      "property_description    10000 Square Feet Spacious Commercial Floor Is...\n",
      "property_overview       This vacant property is an excellent opportuni...\n",
      "property_url            https://www.bproperty.com/en/property/details-...\n",
      "purpose                                                              Rent\n",
      "city                                                                Dhaka\n",
      "locality                                                          Tejgaon\n",
      "id                                                        bproperty-13296\n",
      "overview                10000 squar feet spaciou commerci floor is for...\n",
      "Name: 13296, dtype: object\n",
      "area                                                               1500.0\n",
      "building_type                                                       Floor\n",
      "building_nature                                                Commercial\n",
      "image_url               https://images-cdn.bproperty.com/thumbnails/12...\n",
      "num_bath_rooms                                                        0.0\n",
      "num_bed_rooms                                                         0.0\n",
      "price                                                            375000.0\n",
      "property_description    A Commercial Space Is Available For Rent In Gu...\n",
      "property_overview       This vacant property is an excellent opportuni...\n",
      "property_url            https://www.bproperty.com/en/property/details-...\n",
      "purpose                                                              Rent\n",
      "city                                                                Dhaka\n",
      "locality                                                          Gulshan\n",
      "id                                                        bproperty-11384\n",
      "overview                a commerci space is avail for rent in gulshan ...\n",
      "Name: 11384, dtype: object\n",
      "area                                                               1020.0\n",
      "building_type                                                      Office\n",
      "building_nature                                                Commercial\n",
      "image_url               https://images-cdn.bproperty.com/thumbnails/14...\n",
      "num_bath_rooms                                                        0.0\n",
      "num_bed_rooms                                                         0.0\n",
      "price                                                             35000.0\n",
      "property_description      1020 Square Feet Office Is For Rent In Banasree\n",
      "property_overview       This vacant property is an excellent opportuni...\n",
      "property_url            https://www.bproperty.com/en/property/details-...\n",
      "purpose                                                              Rent\n",
      "city                                                                Dhaka\n",
      "locality                                                         Banasree\n",
      "id                                                        bproperty-13757\n",
      "overview                1020 squar feet offic is for rent in banasre t...\n",
      "Name: 13757, dtype: object\n"
     ]
    }
   ],
   "source": [
    "recommend('bproperty-18')"
   ]
  },
  {
   "cell_type": "code",
   "execution_count": null,
   "id": "38539b84",
   "metadata": {},
   "outputs": [],
   "source": []
  }
 ],
 "metadata": {
  "kernelspec": {
   "display_name": "Python 3 (ipykernel)",
   "language": "python",
   "name": "python3"
  },
  "language_info": {
   "codemirror_mode": {
    "name": "ipython",
    "version": 3
   },
   "file_extension": ".py",
   "mimetype": "text/x-python",
   "name": "python",
   "nbconvert_exporter": "python",
   "pygments_lexer": "ipython3",
   "version": "3.9.13"
  }
 },
 "nbformat": 4,
 "nbformat_minor": 5
}
